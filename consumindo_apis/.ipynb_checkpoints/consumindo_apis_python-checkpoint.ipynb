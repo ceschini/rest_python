{
 "cells": [
  {
   "cell_type": "markdown",
   "id": "indie-buffalo",
   "metadata": {},
   "source": [
    "# Como consumir APIs em Python"
   ]
  },
  {
   "cell_type": "code",
   "execution_count": 1,
   "id": "hourly-prayer",
   "metadata": {},
   "outputs": [],
   "source": [
    "import json\n",
    "import requests"
   ]
  },
  {
   "cell_type": "markdown",
   "id": "directed-wright",
   "metadata": {},
   "source": [
    "## GET"
   ]
  },
  {
   "cell_type": "code",
   "execution_count": 2,
   "id": "whole-television",
   "metadata": {},
   "outputs": [],
   "source": [
    "URL = 'http://127.0.0.1:5000'"
   ]
  },
  {
   "cell_type": "code",
   "execution_count": 3,
   "id": "dense-database",
   "metadata": {},
   "outputs": [],
   "source": [
    "resposta_hoteis = requests.request('GET', URL + '/hoteis')"
   ]
  },
  {
   "cell_type": "code",
   "execution_count": 4,
   "id": "patient-sheffield",
   "metadata": {},
   "outputs": [
    {
     "data": {
      "text/plain": [
       "<Response [200]>"
      ]
     },
     "execution_count": 4,
     "metadata": {},
     "output_type": "execute_result"
    }
   ],
   "source": [
    "resposta_hoteis"
   ]
  },
  {
   "cell_type": "code",
   "execution_count": 5,
   "id": "advance-atlantic",
   "metadata": {},
   "outputs": [],
   "source": [
    "hoteis = resposta_hoteis.json()"
   ]
  },
  {
   "cell_type": "code",
   "execution_count": 6,
   "id": "universal-pressure",
   "metadata": {},
   "outputs": [
    {
     "data": {
      "text/plain": [
       "[{'hotel_id': 'echo',\n",
       "  'nome': 'Echo Hotel',\n",
       "  'estrelas': 4.9,\n",
       "  'diaria': 380.9,\n",
       "  'cidade': 'Rio de Janeiro'},\n",
       " {'hotel_id': 'alpha',\n",
       "  'nome': 'Alpha Hotel',\n",
       "  'estrelas': 4.0,\n",
       "  'diaria': 334.2,\n",
       "  'cidade': 'Santa Catarina'},\n",
       " {'hotel_id': 'delta',\n",
       "  'nome': 'Delta Hotel',\n",
       "  'estrelas': 3.0,\n",
       "  'diaria': 234.2,\n",
       "  'cidade': 'Santa Catarina'},\n",
       " {'hotel_id': 'beta',\n",
       "  'nome': 'Beta Hotel',\n",
       "  'estrelas': 5.0,\n",
       "  'diaria': 534.2,\n",
       "  'cidade': 'São Paulo'},\n",
       " {'hotel_id': 'gama',\n",
       "  'nome': 'Gama Hotel',\n",
       "  'estrelas': 5.0,\n",
       "  'diaria': 500.0,\n",
       "  'cidade': 'Fortaleza'}]"
      ]
     },
     "execution_count": 6,
     "metadata": {},
     "output_type": "execute_result"
    }
   ],
   "source": [
    "hoteis['hoteis']"
   ]
  },
  {
   "cell_type": "code",
   "execution_count": 7,
   "id": "wrong-louis",
   "metadata": {},
   "outputs": [
    {
     "data": {
      "text/plain": [
       "5"
      ]
     },
     "execution_count": 7,
     "metadata": {},
     "output_type": "execute_result"
    }
   ],
   "source": [
    "len(hoteis['hoteis'])"
   ]
  },
  {
   "cell_type": "code",
   "execution_count": 8,
   "id": "third-bumper",
   "metadata": {},
   "outputs": [],
   "source": [
    "lista_hoteis = hoteis['hoteis']"
   ]
  },
  {
   "cell_type": "code",
   "execution_count": 9,
   "id": "obvious-modern",
   "metadata": {},
   "outputs": [
    {
     "name": "stdout",
     "output_type": "stream",
     "text": [
      "Echo Hotel\n",
      "Alpha Hotel\n",
      "Delta Hotel\n",
      "Beta Hotel\n",
      "Gama Hotel\n"
     ]
    }
   ],
   "source": [
    "for hotel in lista_hoteis:\n",
    "    print(hotel['nome'])"
   ]
  },
  {
   "cell_type": "markdown",
   "id": "removed-shell",
   "metadata": {},
   "source": [
    "### Consumindo API Mercado Livre"
   ]
  },
  {
   "cell_type": "code",
   "execution_count": 10,
   "id": "funky-budapest",
   "metadata": {},
   "outputs": [],
   "source": [
    "ml_url = 'https://api.mercadolibre.com/sites'"
   ]
  },
  {
   "cell_type": "code",
   "execution_count": 11,
   "id": "authorized-title",
   "metadata": {},
   "outputs": [],
   "source": [
    "lista_sites = requests.request('GET', ml_url)"
   ]
  },
  {
   "cell_type": "code",
   "execution_count": 12,
   "id": "romantic-dependence",
   "metadata": {},
   "outputs": [
    {
     "data": {
      "text/plain": [
       "<Response [200]>"
      ]
     },
     "execution_count": 12,
     "metadata": {},
     "output_type": "execute_result"
    }
   ],
   "source": [
    "lista_sites"
   ]
  },
  {
   "cell_type": "code",
   "execution_count": 13,
   "id": "harmful-ghana",
   "metadata": {},
   "outputs": [
    {
     "data": {
      "text/plain": [
       "[{'default_currency_id': 'VES', 'id': 'MLV', 'name': 'Venezuela'},\n",
       " {'default_currency_id': 'MXN', 'id': 'MLM', 'name': 'Mexico'},\n",
       " {'default_currency_id': 'GTQ', 'id': 'MGT', 'name': 'Guatemala'},\n",
       " {'default_currency_id': 'PYG', 'id': 'MPY', 'name': 'Paraguay'},\n",
       " {'default_currency_id': 'NIO', 'id': 'MNI', 'name': 'Nicaragua'},\n",
       " {'default_currency_id': 'HNL', 'id': 'MHN', 'name': 'Honduras'},\n",
       " {'default_currency_id': 'BRL', 'id': 'MLB', 'name': 'Brasil'},\n",
       " {'default_currency_id': 'PAB', 'id': 'MPA', 'name': 'Panamá'},\n",
       " {'default_currency_id': 'COP', 'id': 'MCO', 'name': 'Colombia'},\n",
       " {'default_currency_id': 'UYU', 'id': 'MLU', 'name': 'Uruguay'},\n",
       " {'default_currency_id': 'ARS', 'id': 'MLA', 'name': 'Argentina'},\n",
       " {'default_currency_id': 'USD', 'id': 'MSV', 'name': 'El Salvador'},\n",
       " {'default_currency_id': 'USD', 'id': 'MEC', 'name': 'Ecuador'},\n",
       " {'default_currency_id': 'PEN', 'id': 'MPE', 'name': 'Perú'},\n",
       " {'default_currency_id': 'CUP', 'id': 'MCU', 'name': 'Cuba'},\n",
       " {'default_currency_id': 'CLP', 'id': 'MLC', 'name': 'Chile'},\n",
       " {'default_currency_id': 'DOP', 'id': 'MRD', 'name': 'Dominicana'},\n",
       " {'default_currency_id': 'CRC', 'id': 'MCR', 'name': 'Costa Rica'},\n",
       " {'default_currency_id': 'BOB', 'id': 'MBO', 'name': 'Bolivia'}]"
      ]
     },
     "execution_count": 13,
     "metadata": {},
     "output_type": "execute_result"
    }
   ],
   "source": [
    "lista_sites.json()"
   ]
  },
  {
   "cell_type": "code",
   "execution_count": 14,
   "id": "rough-samoa",
   "metadata": {},
   "outputs": [],
   "source": [
    "ml_br_url = 'https://api.mercadolibre.com/sites/MLB/categories'"
   ]
  },
  {
   "cell_type": "code",
   "execution_count": 15,
   "id": "intellectual-router",
   "metadata": {},
   "outputs": [],
   "source": [
    "lista_categorias = requests.request('GET', ml_br_url)"
   ]
  },
  {
   "cell_type": "code",
   "execution_count": 16,
   "id": "advance-officer",
   "metadata": {},
   "outputs": [
    {
     "data": {
      "text/plain": [
       "<Response [200]>"
      ]
     },
     "execution_count": 16,
     "metadata": {},
     "output_type": "execute_result"
    }
   ],
   "source": [
    "lista_categorias"
   ]
  },
  {
   "cell_type": "code",
   "execution_count": 17,
   "id": "therapeutic-karma",
   "metadata": {},
   "outputs": [
    {
     "data": {
      "text/plain": [
       "[{'id': 'MLB5672', 'name': 'Acessórios para Veículos'},\n",
       " {'id': 'MLB271599', 'name': 'Agro'},\n",
       " {'id': 'MLB1403', 'name': 'Alimentos e Bebidas'},\n",
       " {'id': 'MLB1071', 'name': 'Animais'},\n",
       " {'id': 'MLB1367', 'name': 'Antiguidades e Coleções'},\n",
       " {'id': 'MLB1368', 'name': 'Arte, Papelaria e Armarinho'},\n",
       " {'id': 'MLB1384', 'name': 'Bebês'},\n",
       " {'id': 'MLB1246', 'name': 'Beleza e Cuidado Pessoal'},\n",
       " {'id': 'MLB1132', 'name': 'Brinquedos e Hobbies'},\n",
       " {'id': 'MLB1430', 'name': 'Calçados, Roupas e Bolsas'},\n",
       " {'id': 'MLB1039', 'name': 'Câmeras e Acessórios'},\n",
       " {'id': 'MLB1743', 'name': 'Carros, Motos e Outros'},\n",
       " {'id': 'MLB1574', 'name': 'Casa, Móveis e Decoração'},\n",
       " {'id': 'MLB1051', 'name': 'Celulares e Telefones'},\n",
       " {'id': 'MLB1500', 'name': 'Construção'},\n",
       " {'id': 'MLB5726', 'name': 'Eletrodomésticos'},\n",
       " {'id': 'MLB1000', 'name': 'Eletrônicos, Áudio e Vídeo'},\n",
       " {'id': 'MLB1276', 'name': 'Esportes e Fitness'},\n",
       " {'id': 'MLB263532', 'name': 'Ferramentas'},\n",
       " {'id': 'MLB12404', 'name': 'Festas e Lembrancinhas'},\n",
       " {'id': 'MLB1144', 'name': 'Games'},\n",
       " {'id': 'MLB1459', 'name': 'Imóveis'},\n",
       " {'id': 'MLB1499', 'name': 'Indústria e Comércio'},\n",
       " {'id': 'MLB1648', 'name': 'Informática'},\n",
       " {'id': 'MLB218519', 'name': 'Ingressos'},\n",
       " {'id': 'MLB1182', 'name': 'Instrumentos Musicais'},\n",
       " {'id': 'MLB3937', 'name': 'Joias e Relógios'},\n",
       " {'id': 'MLB1196', 'name': 'Livros, Revistas e Comics'},\n",
       " {'id': 'MLB1168', 'name': 'Música, Filmes e Seriados'},\n",
       " {'id': 'MLB264586', 'name': 'Saúde'},\n",
       " {'id': 'MLB1540', 'name': 'Serviços'},\n",
       " {'id': 'MLB1953', 'name': 'Mais Categorias'}]"
      ]
     },
     "execution_count": 17,
     "metadata": {},
     "output_type": "execute_result"
    }
   ],
   "source": [
    "lista_categorias.json()"
   ]
  },
  {
   "cell_type": "markdown",
   "id": "coated-activation",
   "metadata": {},
   "source": [
    "## POST"
   ]
  },
  {
   "cell_type": "code",
   "execution_count": 18,
   "id": "wrapped-indonesian",
   "metadata": {},
   "outputs": [],
   "source": [
    "endpoint = URL + '/hoteis/golf'"
   ]
  },
  {
   "cell_type": "code",
   "execution_count": 19,
   "id": "genuine-magnitude",
   "metadata": {},
   "outputs": [],
   "source": [
    "body = {\n",
    "    'nome': 'Golf Hotel',\n",
    "    'estrelas': 5.0,\n",
    "    'diaria': 500.00,\n",
    "    'cidade': 'Fortaleza'\n",
    "}"
   ]
  },
  {
   "cell_type": "code",
   "execution_count": 20,
   "id": "beautiful-pulse",
   "metadata": {},
   "outputs": [],
   "source": [
    "cabecalhos = {\n",
    "    'Content-Type': 'application/json'\n",
    "}"
   ]
  },
  {
   "cell_type": "code",
   "execution_count": 21,
   "id": "attractive-offering",
   "metadata": {},
   "outputs": [],
   "source": [
    "resposta = requests.request('POST', endpoint, json=body, headers=cabecalhos)"
   ]
  },
  {
   "cell_type": "code",
   "execution_count": 22,
   "id": "mineral-patio",
   "metadata": {},
   "outputs": [
    {
     "data": {
      "text/plain": [
       "200"
      ]
     },
     "execution_count": 22,
     "metadata": {},
     "output_type": "execute_result"
    }
   ],
   "source": [
    "resposta.status_code"
   ]
  },
  {
   "cell_type": "code",
   "execution_count": 23,
   "id": "occasional-choice",
   "metadata": {},
   "outputs": [
    {
     "data": {
      "text/plain": [
       "{'hotel_id': 'golf',\n",
       " 'nome': 'Golf Hotel',\n",
       " 'estrelas': 5.0,\n",
       " 'diaria': 500.0,\n",
       " 'cidade': 'Fortaleza'}"
      ]
     },
     "execution_count": 23,
     "metadata": {},
     "output_type": "execute_result"
    }
   ],
   "source": [
    "resposta.json()"
   ]
  },
  {
   "cell_type": "markdown",
   "id": "imported-queensland",
   "metadata": {},
   "source": [
    "## PUT"
   ]
  },
  {
   "cell_type": "code",
   "execution_count": 25,
   "id": "experimental-module",
   "metadata": {},
   "outputs": [],
   "source": [
    "endpoint = URL + '/hoteis/hotel'"
   ]
  },
  {
   "cell_type": "code",
   "execution_count": 27,
   "id": "everyday-destination",
   "metadata": {},
   "outputs": [],
   "source": [
    "body = {\n",
    "    'nome': 'Hotel Hotel',\n",
    "    'estrelas': 1.5,\n",
    "    'cidade': 'Paraná'\n",
    "}"
   ]
  },
  {
   "cell_type": "code",
   "execution_count": 28,
   "id": "spread-chase",
   "metadata": {},
   "outputs": [],
   "source": [
    "cabecalhos = {\n",
    "    'Content-Type': 'application/json'\n",
    "}"
   ]
  },
  {
   "cell_type": "code",
   "execution_count": 29,
   "id": "enclosed-sampling",
   "metadata": {},
   "outputs": [],
   "source": [
    "resposta = requests.request('PUT', endpoint, json=body, headers=cabecalhos)"
   ]
  },
  {
   "cell_type": "code",
   "execution_count": 30,
   "id": "specified-projector",
   "metadata": {},
   "outputs": [
    {
     "data": {
      "text/plain": [
       "201"
      ]
     },
     "execution_count": 30,
     "metadata": {},
     "output_type": "execute_result"
    }
   ],
   "source": [
    "resposta.status_code"
   ]
  },
  {
   "cell_type": "code",
   "execution_count": 31,
   "id": "threaded-surveillance",
   "metadata": {},
   "outputs": [],
   "source": [
    "body = {\n",
    "    'nome': 'Hotel Hotel',\n",
    "    'estrelas': 1.5,\n",
    "    'diaria': 45.99,\n",
    "    'cidade': 'Paraná'\n",
    "}"
   ]
  },
  {
   "cell_type": "code",
   "execution_count": 32,
   "id": "employed-continent",
   "metadata": {},
   "outputs": [],
   "source": [
    "resposta = requests.request('PUT', endpoint, json=body, headers=cabecalhos)"
   ]
  },
  {
   "cell_type": "code",
   "execution_count": 33,
   "id": "demonstrated-financing",
   "metadata": {},
   "outputs": [
    {
     "data": {
      "text/plain": [
       "200"
      ]
     },
     "execution_count": 33,
     "metadata": {},
     "output_type": "execute_result"
    }
   ],
   "source": [
    "resposta.status_code"
   ]
  },
  {
   "cell_type": "code",
   "execution_count": 34,
   "id": "closing-ancient",
   "metadata": {},
   "outputs": [
    {
     "data": {
      "text/plain": [
       "{'hotel_id': 'hotel',\n",
       " 'nome': 'Hotel Hotel',\n",
       " 'estrelas': 1.5,\n",
       " 'diaria': 45.99,\n",
       " 'cidade': 'Paraná'}"
      ]
     },
     "execution_count": 34,
     "metadata": {},
     "output_type": "execute_result"
    }
   ],
   "source": [
    "resposta.json()"
   ]
  },
  {
   "cell_type": "markdown",
   "id": "korean-nature",
   "metadata": {},
   "source": [
    "## DELETE"
   ]
  },
  {
   "cell_type": "code",
   "execution_count": 35,
   "id": "accurate-diabetes",
   "metadata": {},
   "outputs": [],
   "source": [
    "resposta = requests.request('DELETE', endpoint, headers=cabecalhos)"
   ]
  },
  {
   "cell_type": "code",
   "execution_count": 36,
   "id": "leading-liverpool",
   "metadata": {},
   "outputs": [
    {
     "data": {
      "text/plain": [
       "200"
      ]
     },
     "execution_count": 36,
     "metadata": {},
     "output_type": "execute_result"
    }
   ],
   "source": [
    "resposta.status_code"
   ]
  },
  {
   "cell_type": "code",
   "execution_count": 37,
   "id": "wrong-frontier",
   "metadata": {},
   "outputs": [
    {
     "data": {
      "text/plain": [
       "{'message': 'Hotel deleted.'}"
      ]
     },
     "execution_count": 37,
     "metadata": {},
     "output_type": "execute_result"
    }
   ],
   "source": [
    "resposta.json()"
   ]
  },
  {
   "cell_type": "code",
   "execution_count": 42,
   "id": "subsequent-hungary",
   "metadata": {},
   "outputs": [],
   "source": [
    "resposta = requests.request('GET', URL + '/hoteis', headers=cabecalhos)"
   ]
  },
  {
   "cell_type": "code",
   "execution_count": 43,
   "id": "identical-regression",
   "metadata": {},
   "outputs": [
    {
     "data": {
      "text/plain": [
       "200"
      ]
     },
     "execution_count": 43,
     "metadata": {},
     "output_type": "execute_result"
    }
   ],
   "source": [
    "resposta.status_code"
   ]
  },
  {
   "cell_type": "code",
   "execution_count": 44,
   "id": "acceptable-reproduction",
   "metadata": {},
   "outputs": [
    {
     "data": {
      "text/plain": [
       "{'hoteis': [{'hotel_id': 'echo',\n",
       "   'nome': 'Echo Hotel',\n",
       "   'estrelas': 4.9,\n",
       "   'diaria': 380.9,\n",
       "   'cidade': 'Rio de Janeiro'},\n",
       "  {'hotel_id': 'alpha',\n",
       "   'nome': 'Alpha Hotel',\n",
       "   'estrelas': 4.0,\n",
       "   'diaria': 334.2,\n",
       "   'cidade': 'Santa Catarina'},\n",
       "  {'hotel_id': 'delta',\n",
       "   'nome': 'Delta Hotel',\n",
       "   'estrelas': 3.0,\n",
       "   'diaria': 234.2,\n",
       "   'cidade': 'Santa Catarina'},\n",
       "  {'hotel_id': 'beta',\n",
       "   'nome': 'Beta Hotel',\n",
       "   'estrelas': 5.0,\n",
       "   'diaria': 534.2,\n",
       "   'cidade': 'São Paulo'},\n",
       "  {'hotel_id': 'gama',\n",
       "   'nome': 'Gama Hotel',\n",
       "   'estrelas': 5.0,\n",
       "   'diaria': 500.0,\n",
       "   'cidade': 'Fortaleza'},\n",
       "  {'hotel_id': 'golf',\n",
       "   'nome': 'Golf Hotel',\n",
       "   'estrelas': 5.0,\n",
       "   'diaria': 500.0,\n",
       "   'cidade': 'Fortaleza'}]}"
      ]
     },
     "execution_count": 44,
     "metadata": {},
     "output_type": "execute_result"
    }
   ],
   "source": [
    "resposta.json()"
   ]
  },
  {
   "cell_type": "code",
   "execution_count": null,
   "id": "blessed-marketplace",
   "metadata": {},
   "outputs": [],
   "source": []
  }
 ],
 "metadata": {
  "kernelspec": {
   "display_name": "Python 3",
   "language": "python",
   "name": "python3"
  },
  "language_info": {
   "codemirror_mode": {
    "name": "ipython",
    "version": 3
   },
   "file_extension": ".py",
   "mimetype": "text/x-python",
   "name": "python",
   "nbconvert_exporter": "python",
   "pygments_lexer": "ipython3",
   "version": "3.8.5"
  }
 },
 "nbformat": 4,
 "nbformat_minor": 5
}
